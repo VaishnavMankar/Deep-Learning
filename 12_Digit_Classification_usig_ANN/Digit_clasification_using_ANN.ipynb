{
 "cells": [
  {
   "cell_type": "code",
   "execution_count": null,
   "id": "2ddb18bf-b244-418e-9dfc-cb7c6bfc1099",
   "metadata": {},
   "outputs": [],
   "source": [
    "import tensorflow\n",
    "from tensorflow import keras\n",
    "from tensorflow.keras import Sequential\n",
    "from tensorflow.keras.layers import Dense,Flatten"
   ]
  },
  {
   "cell_type": "code",
   "execution_count": null,
   "id": "82e988bc-d9f0-4b3d-be2b-4de3729441ed",
   "metadata": {},
   "outputs": [],
   "source": [
    "(X_train,y_train),(X_test,y_test) = keras.datasets.mnist.load_data()"
   ]
  },
  {
   "cell_type": "code",
   "execution_count": null,
   "id": "62efd367-0389-405d-a309-1927e150aa9d",
   "metadata": {},
   "outputs": [],
   "source": [
    "X_test.shape"
   ]
  },
  {
   "cell_type": "code",
   "execution_count": null,
   "id": "1be1801a-a239-48d9-babd-9a5cdc3b0501",
   "metadata": {},
   "outputs": [],
   "source": [
    "y_train"
   ]
  },
  {
   "cell_type": "code",
   "execution_count": null,
   "id": "af29dbde-1345-4d15-b0f3-e5e5c79e74d5",
   "metadata": {},
   "outputs": [],
   "source": [
    "import matplotlib.pyplot as plt\n",
    "plt.imshow(X_train[2])"
   ]
  },
  {
   "cell_type": "code",
   "execution_count": null,
   "id": "a23bd322-e88a-4718-83b3-becaab226775",
   "metadata": {},
   "outputs": [],
   "source": [
    "X_train = X_train/255 # If the values are within range it help model to calculate waight and \n",
    "X_test = X_test/255 # biases faster and also increase the accuuracy\n",
    "# the max value is 255 so by dividing by 25 you get 1 and dviding o by 255 will give you 0 so\n",
    "# the range will become in between 0 to 1"
   ]
  },
  {
   "cell_type": "code",
   "execution_count": null,
   "id": "6db25437-9a94-4ac9-a68f-11879ae28cc0",
   "metadata": {},
   "outputs": [],
   "source": [
    "X_train[0]"
   ]
  },
  {
   "cell_type": "code",
   "execution_count": null,
   "id": "51c02f8a-a7c8-4658-b79e-0d69bd6850b4",
   "metadata": {},
   "outputs": [],
   "source": [
    "model = Sequential()\n",
    "#we use flaten layer to convert a 2d data into 1d data \n",
    "model.add(Flatten(input_shape=(28,28)))\n",
    "model.add(Dense(128,activation='relu'))\n",
    "model.add(Dense(32,activation='relu'))\n",
    "model.add(Dense(10,activation='softmax'))# when you are performing multi classification problem use softmax in last layer "
   ]
  },
  {
   "cell_type": "code",
   "execution_count": null,
   "id": "baf4f53c-5047-4771-b890-2cbba55fe8c8",
   "metadata": {},
   "outputs": [],
   "source": [
    "model.compile(loss='sparse_categorical_crossentropy',optimizer='Adam',metrics=['accuracy'])"
   ]
  },
  {
   "cell_type": "code",
   "execution_count": null,
   "id": "48d185ac-ef02-46fc-ba29-92bf949b3626",
   "metadata": {},
   "outputs": [],
   "source": [
    "history = model.fit(X_train,y_train,epochs=25,validation_split=0.2)"
   ]
  },
  {
   "cell_type": "code",
   "execution_count": null,
   "id": "05f03bc3-7ccf-42dc-9616-2cb321c17f3a",
   "metadata": {},
   "outputs": [],
   "source": [
    "y_prob = model.predict(X_test)"
   ]
  },
  {
   "cell_type": "code",
   "execution_count": null,
   "id": "1ac11b85-87c1-468a-840f-de9767546e26",
   "metadata": {},
   "outputs": [],
   "source": [
    "y_pred = y_prob.argmax(axis=1)"
   ]
  },
  {
   "cell_type": "code",
   "execution_count": null,
   "id": "8c081114-1603-4095-84a2-33cc69e11b1b",
   "metadata": {},
   "outputs": [],
   "source": [
    "from sklearn.metrics import accuracy_score\n",
    "accuracy_score(y_test,y_pred)"
   ]
  },
  {
   "cell_type": "code",
   "execution_count": null,
   "id": "4754a487-e946-4259-b0f0-232f72062a33",
   "metadata": {},
   "outputs": [],
   "source": [
    "plt.plot(history.history['loss'])\n",
    "plt.plot(history.history['val_loss'])"
   ]
  },
  {
   "cell_type": "code",
   "execution_count": null,
   "id": "eef7fe58-7851-4b03-b1cd-45300836bb7a",
   "metadata": {},
   "outputs": [],
   "source": [
    "plt.plot(history.history['accuracy'])\n",
    "plt.plot(history.history['val_accuracy'])"
   ]
  },
  {
   "cell_type": "code",
   "execution_count": null,
   "id": "93938538-6a3d-4f40-a1bc-06074c8e5c3b",
   "metadata": {},
   "outputs": [],
   "source": [
    "plt.imshow(X_test[1])"
   ]
  },
  {
   "cell_type": "code",
   "execution_count": null,
   "id": "37814d87-d43d-4488-ac89-7c7f17036a55",
   "metadata": {},
   "outputs": [],
   "source": [
    "model.predict(X_test[1].reshape(1,28,28)).argmax(axis=1)"
   ]
  }
 ],
 "metadata": {
  "kernelspec": {
   "display_name": "Python [conda env:base] *",
   "language": "python",
   "name": "conda-base-py"
  },
  "language_info": {
   "codemirror_mode": {
    "name": "ipython",
    "version": 3
   },
   "file_extension": ".py",
   "mimetype": "text/x-python",
   "name": "python",
   "nbconvert_exporter": "python",
   "pygments_lexer": "ipython3",
   "version": "3.13.5"
  }
 },
 "nbformat": 4,
 "nbformat_minor": 5
}
